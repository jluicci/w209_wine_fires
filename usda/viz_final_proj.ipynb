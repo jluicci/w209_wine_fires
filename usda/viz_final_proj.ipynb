{
 "cells": [
  {
   "cell_type": "code",
   "execution_count": 1,
   "metadata": {},
   "outputs": [],
   "source": [
    "import pandas as pd"
   ]
  },
  {
   "cell_type": "code",
   "execution_count": 2,
   "metadata": {},
   "outputs": [],
   "source": [
    "cd ~/OneDrive/Desktop/Berkeley/209/data"
   ]
  },
  {
   "cell_type": "code",
   "execution_count": 3,
   "metadata": {
    "scrolled": true
   },
   "outputs": [],
   "source": [
    "wine_2020 = pd.read_csv('2020.csv')\n",
    "wine_2019 = pd.read_csv('2019.csv')\n",
    "wine_2018 = pd.read_csv('2018.csv')\n",
    "wine_2017 = pd.read_csv('2017.csv')\n",
    "wine_2016 = pd.read_csv('2016.csv')\n",
    "wine_2015 = pd.read_csv('2015.csv')\n",
    "wine_2014 = pd.read_csv('2014.csv')\n",
    "wine_2013 = pd.read_csv('2013.csv')\n",
    "wine_2012 = pd.read_csv('2012.csv')\n",
    "wine_2011 = pd.read_csv('2011.csv')"
   ]
  },
  {
   "cell_type": "code",
   "execution_count": 4,
   "metadata": {},
   "outputs": [],
   "source": [
    "# 2020\n",
    "table_2020 = pd.pivot_table(wine_2020, values = ['1', '2', '3', '4', '5', '6', '7', '8',\n",
    "       '9', '10', '11', '12', '13', '14', '15', '16', '17'], columns = ['COLOR'], aggfunc='sum')\n",
    "table_2020['TOTAL'] = table_2020['RED'] + table_2020['WHITE']\n",
    "table_2020['PERCENT'] = (table_2020['TOTAL'] / table_2020['TOTAL'].sum())*100\n",
    "\n",
    "# 2019\n",
    "table_2019 = pd.pivot_table(wine_2019, values = ['1', '2', '3', '4', '5', '6', '7', '8',\n",
    "       '9', '10', '11', '12', '13', '14', '15', '16', '17'], columns = ['COLOR'], aggfunc='sum')\n",
    "table_2019['TOTAL'] = table_2019['RED'] + table_2019['WHITE']\n",
    "table_2019['PERCENT'] = (table_2019['TOTAL'] / table_2019['TOTAL'].sum())*100\n",
    "\n",
    "# 2018\n",
    "table_2018 = pd.pivot_table(wine_2018, values = ['1', '2', '3', '4', '5', '6', '7', '8',\n",
    "       '9', '10', '11', '12', '13', '14', '15', '16', '17'], columns = ['COLOR'], aggfunc='sum')\n",
    "table_2018['TOTAL'] = table_2018['RED'] + table_2018['WHITE']\n",
    "table_2018['PERCENT'] = (table_2018['TOTAL'] / table_2018['TOTAL'].sum())*100\n",
    "\n",
    "# 2017\n",
    "table_2017 = pd.pivot_table(wine_2017, values = ['1', '2', '3', '4', '5', '6', '7', '8',\n",
    "   \t'9', '10', '11', '12', '13', '14', '15', '16', '17'], columns = ['COLOR'], aggfunc='sum')\n",
    "table_2017['TOTAL'] = table_2017['RED'] + table_2017['WHITE']\n",
    "table_2017['PERCENT'] = (table_2017['TOTAL'] / table_2017['TOTAL'].sum())*100\n",
    "\n",
    "# 2016\n",
    "table_2016 = pd.pivot_table(wine_2016, values = ['1', '2', '3', '4', '5', '6', '7', '8',\n",
    "       '9', '10', '11', '12', '13', '14', '15', '16', '17'], columns = ['COLOR'], aggfunc='sum')\n",
    "table_2016['TOTAL'] = table_2016['RED'] + table_2016['WHITE']\n",
    "table_2016['PERCENT'] = (table_2016['TOTAL'] / table_2016['TOTAL'].sum())*100\n",
    "\n",
    "#2015\n",
    "table_2015 = pd.pivot_table(wine_2015, values = ['1', '2', '3', '4', '5', '6', '7', '8',\n",
    "   \t'9', '10', '11', '12', '13', '14', '15', '16', '17'], columns = ['COLOR'], aggfunc='sum') \n",
    "table_2015['TOTAL'] = table_2015['RED'] + table_2015['WHITE']\n",
    "table_2015['PERCENT'] = (table_2015['TOTAL'] / table_2015['TOTAL'].sum())*100\n",
    "\n",
    "# 2014\n",
    "table_2014 = pd.pivot_table(wine_2014, values = ['1', '2', '3', '4', '5', '6', '7', '8',\n",
    "       '9', '10', '11', '12', '13', '14', '15', '16', '17'], columns = ['COLOR'], aggfunc='sum')\n",
    "table_2014['TOTAL'] = table_2014['RED'] + table_2014['WHITE']\n",
    "table_2014['PERCENT'] = (table_2014['TOTAL'] / table_2014['TOTAL'].sum())*100\n",
    "\n",
    "# 2013\n",
    "table_2013 = pd.pivot_table(wine_2013, values = ['1', '2', '3', '4', '5', '6', '7', '8',\n",
    "   \t'9', '10', '11', '12', '13', '14', '15', '16', '17'], columns = ['COLOR'], aggfunc='sum') \n",
    "table_2013['TOTAL'] = table_2013['RED'] + table_2013['WHITE']\n",
    "table_2013['PERCENT'] = (table_2013['TOTAL'] / table_2013['TOTAL'].sum())*100\n",
    "\n",
    "# 2012\n",
    "table_2012 = pd.pivot_table(wine_2012, values = ['1', '2', '3', '4', '5', '6', '7', '8',\n",
    "   \t'9', '10', '11', '12', '13', '14', '15', '16', '17'], columns = ['COLOR'], aggfunc='sum') \n",
    "table_2012['TOTAL'] = table_2012['RED'] + table_2012['WHITE']\n",
    "table_2012['PERCENT'] = (table_2012['TOTAL'] / table_2012['TOTAL'].sum())*100\n",
    "\n",
    "# 2011\n",
    "table_2011 = pd.pivot_table(wine_2011, values = ['1', '2', '3', '4', '5', '6', '7', '8',\n",
    "   \t'9', '10', '11', '12', '13', '14', '15', '16', '17'], columns = ['COLOR'], aggfunc='sum') \n",
    "table_2011['TOTAL'] = table_2011['RED'] + table_2011['WHITE']\n",
    "table_2011['PERCENT'] = (table_2011['TOTAL'] / table_2011['TOTAL'].sum())*100\n"
   ]
  },
  {
   "cell_type": "code",
   "execution_count": 5,
   "metadata": {},
   "outputs": [],
   "source": [
    "table_2020['YEAR'] = '2020'\n",
    "table_2019['YEAR'] = '2019'\n",
    "table_2018['YEAR'] = '2018'\n",
    "table_2017['YEAR'] = '2017'\n",
    "table_2016['YEAR'] = '2016'\n",
    "table_2015['YEAR'] = '2015'\n",
    "table_2014['YEAR'] = '2014'\n",
    "table_2013['YEAR'] = '2013'\n",
    "table_2012['YEAR'] = '2012'\n",
    "table_2011['YEAR'] = '2011'"
   ]
  },
  {
   "cell_type": "code",
   "execution_count": 6,
   "metadata": {},
   "outputs": [],
   "source": [
    "combined = table_2020\n",
    "combined = combined.append(table_2019)\n",
    "combined = combined.append(table_2018)\n",
    "combined = combined.append(table_2017)\n",
    "combined = combined.append(table_2016)\n",
    "combined = combined.append(table_2015)\n",
    "combined = combined.append(table_2014)\n",
    "combined = combined.append(table_2013)\n",
    "combined = combined.append(table_2012)\n",
    "combined = combined.append(table_2011)"
   ]
  },
  {
   "cell_type": "code",
   "execution_count": 7,
   "metadata": {},
   "outputs": [],
   "source": [
    "combined = combined.reset_index()\n",
    "combined.to_csv('combined_all.csv')"
   ]
  }
 ],
 "metadata": {
  "kernelspec": {
   "display_name": "Python 3",
   "language": "python",
   "name": "python3"
  },
  "language_info": {
   "codemirror_mode": {
    "name": "ipython",
    "version": 3
   },
   "file_extension": ".py",
   "mimetype": "text/x-python",
   "name": "python",
   "nbconvert_exporter": "python",
   "pygments_lexer": "ipython3",
   "version": "3.8.5"
  }
 },
 "nbformat": 4,
 "nbformat_minor": 4
}
